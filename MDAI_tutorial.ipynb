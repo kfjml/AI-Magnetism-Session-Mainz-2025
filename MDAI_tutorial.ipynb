{
 "cells": [
  {
   "attachments": {},
   "cell_type": "markdown",
   "id": "48987fbb-9f67-45c5-bf6d-4f35469446e2",
   "metadata": {},
   "source": [
    "# Magnetic Data Aggregator for AI  - MDAI\n",
    "\n",
    "Join, combine, filter, and access magnetic data in same format for AI training."
   ]
  },
  {
   "cell_type": "code",
   "execution_count": null,
   "id": "44304115-18db-4089-9276-1a7e831d5dc8",
   "metadata": {},
   "outputs": [],
   "source": [
    "try:\n",
    "    import google.colab\n",
    "    in_colab = True\n",
    "    ![ ! -d \"AI-Magnetism-Session-Mainz-2025\" ] ||  [ ! -d \"AI-Magnetism-Session-Mainz-2025/.git\" ] && git clone https://github.com/kfjml/AI-Magnetism-Session-Mainz-2025\n",
    "    basis_dir = \"/content/AI-Magnetism-Session-Mainz-2025/\"\n",
    "    import sys\n",
    "    sys.path.append(basis_dir)\n",
    "\n",
    "    from google.colab import output\n",
    "    output.enable_custom_widget_manager()\n",
    "except:\n",
    "    basis_dir = \"./\"    \n",
    "    in_colab = False\n"
   ]
  },
  {
   "cell_type": "code",
   "execution_count": null,
   "id": "3cdcdcb9-fc05-47e9-8f11-f434924d5453",
   "metadata": {},
   "outputs": [],
   "source": [
    "import pandas as pd\n",
    "from MDAI import Repositories"
   ]
  },
  {
   "cell_type": "code",
   "execution_count": null,
   "id": "13250257-1e7c-45fc-ae66-9f567791e14f",
   "metadata": {},
   "outputs": [],
   "source": [
    "repos = Repositories.import_from_yaml(basis_dir+\"metadata/metadata.yaml\", basis_dir+\"datasets/\")\n",
    "repos = repos.filter_repositories(tags=[\"Defects\"],measurement_method_class=\"1\",measurement_method=\"MOKE\")\n",
    "repos"
   ]
  },
  {
   "cell_type": "code",
   "execution_count": null,
   "id": "8df1a2fd-1ccd-4d97-88cb-e80ab3a83b0b",
   "metadata": {},
   "outputs": [],
   "source": [
    "#repos.download()"
   ]
  },
  {
   "cell_type": "code",
   "execution_count": null,
   "id": "9645935b-9fbb-410e-8285-b4ca75ff0c9e",
   "metadata": {},
   "outputs": [],
   "source": [
    "#dataset = repos.get_datasets_raw()\n",
    "dataset,datatable = repos.get_datasets(['grayscale_image','label_image','source_id_in_repository','train_test_val_split'])\n",
    "print(dataset)"
   ]
  },
  {
   "cell_type": "code",
   "execution_count": null,
   "id": "9d9f97ce-abb7-41e5-b03a-92c94e30dcfb",
   "metadata": {},
   "outputs": [],
   "source": [
    "datatable"
   ]
  },
  {
   "cell_type": "code",
   "execution_count": null,
   "id": "4eae08ea-026c-46d9-b482-1fec29763b01",
   "metadata": {},
   "outputs": [],
   "source": []
  }
 ],
 "metadata": {
  "kernelspec": {
   "display_name": "Python 3 (ipykernel)",
   "language": "python",
   "name": "python3"
  },
  "language_info": {
   "codemirror_mode": {
    "name": "ipython",
    "version": 3
   },
   "file_extension": ".py",
   "mimetype": "text/x-python",
   "name": "python",
   "nbconvert_exporter": "python",
   "pygments_lexer": "ipython3",
   "version": "3.11.0"
  }
 },
 "nbformat": 4,
 "nbformat_minor": 5
}
